{
 "cells": [
  {
   "cell_type": "markdown",
   "id": "852ba695-91a5-40cc-aa99-a34bcdb0e201",
   "metadata": {},
   "source": [
    "7.Write a program to create \"intro.txt\" file.  Print only even number of row."
   ]
  },
  {
   "cell_type": "code",
   "execution_count": 1,
   "id": "cbbe124c-442e-420c-bcc8-d375c2db7e9f",
   "metadata": {},
   "outputs": [],
   "source": [
    "import csv "
   ]
  },
  {
   "cell_type": "code",
   "execution_count": 25,
   "id": "1540324b-3882-437d-a381-0e329a260b47",
   "metadata": {},
   "outputs": [
    {
     "name": "stdout",
     "output_type": "stream",
     "text": [
      "My name is Henil Nareshbhai Rabari.\n",
      "I am pursuing Bachelor in computer application.\n",
      "I live in madhi beside bank of baroda in main bazzar.\n",
      "Madhi is located in surat district of Gujarat.\n",
      "I m acquiring knowledge from the vidhyabharti trust  college of business,computer-science and research.\n",
      "Our college has a colloboration with veer narmada south gujarat university.\n",
      "\n",
      "\n"
     ]
    }
   ],
   "source": [
    "with open(\"C:\\\\22bca200\\\\python\\\\intro.txt\",\"r\",errors=\"ignore\") as txt:\n",
    "    read=txt.read()\n",
    "    print(read)"
   ]
  },
  {
   "cell_type": "code",
   "execution_count": null,
   "id": "77f5c4f2-4dfa-41f0-bdcb-76acd588e1ac",
   "metadata": {},
   "outputs": [],
   "source": []
  }
 ],
 "metadata": {
  "kernelspec": {
   "display_name": "Python 3 (ipykernel)",
   "language": "python",
   "name": "python3"
  },
  "language_info": {
   "codemirror_mode": {
    "name": "ipython",
    "version": 3
   },
   "file_extension": ".py",
   "mimetype": "text/x-python",
   "name": "python",
   "nbconvert_exporter": "python",
   "pygments_lexer": "ipython3",
   "version": "3.9.6"
  }
 },
 "nbformat": 4,
 "nbformat_minor": 5
}
